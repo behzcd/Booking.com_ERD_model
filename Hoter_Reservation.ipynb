{
  "nbformat": 4,
  "nbformat_minor": 0,
  "metadata": {
    "colab": {
      "provenance": [],
      "authorship_tag": "ABX9TyOdV7Q8jPL8s7cYddv/C14h",
      "include_colab_link": true
    },
    "kernelspec": {
      "name": "python3",
      "display_name": "Python 3"
    },
    "language_info": {
      "name": "python"
    }
  },
  "cells": [
    {
      "cell_type": "markdown",
      "metadata": {
        "id": "view-in-github",
        "colab_type": "text"
      },
      "source": [
        "<a href=\"https://colab.research.google.com/github/bmukhammadaliev/Final-Project-draft-/blob/main/Hoter_Reservation.ipynb\" target=\"_parent\"><img src=\"https://colab.research.google.com/assets/colab-badge.svg\" alt=\"Open In Colab\"/></a>"
      ]
    },
    {
      "cell_type": "code",
      "execution_count": 23,
      "metadata": {
        "id": "oDZLzm9hKEwC"
      },
      "outputs": [],
      "source": [
        "import sqlite3 as sl\n",
        "import pandas as pd\n",
        "\n",
        "con = sl.connect('Hotel_Reservation.db')"
      ]
    },
    {
      "cell_type": "code",
      "source": [
        "Transactions = pd.DataFrame({\n",
        "    'transaction_ID': [1111,1222,2222,2111,3222],\n",
        "    'reserv_id': ['rsv1', 'rsv2', 'rsv3', 'rsv4', 'rsv5'],\n",
        "    'employee_id': ['e1','e2','e3','e4','e5'],\n",
        "    'payment_id': ['py1','py2','py3','py4','py5'],\n",
        "    'customer_id': ['s1','s2','s3','s4','s5'],\n",
        "    'hotel_id':['hm1','hm2','hm3','hm4','hm5']\n",
        "})\n",
        "Transactions"
      ],
      "metadata": {
        "colab": {
          "base_uri": "https://localhost:8080/",
          "height": 206
        },
        "id": "xKt78oIOQORI",
        "outputId": "4f773107-195e-4273-faed-2bf60a1bc370"
      },
      "execution_count": 24,
      "outputs": [
        {
          "output_type": "execute_result",
          "data": {
            "text/plain": [
              "   transaction_ID reserv_id employee_id payment_id customer_id hotel_id\n",
              "0            1111      rsv1          e1        py1          s1      hm1\n",
              "1            1222      rsv2          e2        py2          s2      hm2\n",
              "2            2222      rsv3          e3        py3          s3      hm3\n",
              "3            2111      rsv4          e4        py4          s4      hm4\n",
              "4            3222      rsv5          e5        py5          s5      hm5"
            ],
            "text/html": [
              "\n",
              "  <div id=\"df-5656bea0-d6f9-46c3-8108-930a86c5fd0e\">\n",
              "    <div class=\"colab-df-container\">\n",
              "      <div>\n",
              "<style scoped>\n",
              "    .dataframe tbody tr th:only-of-type {\n",
              "        vertical-align: middle;\n",
              "    }\n",
              "\n",
              "    .dataframe tbody tr th {\n",
              "        vertical-align: top;\n",
              "    }\n",
              "\n",
              "    .dataframe thead th {\n",
              "        text-align: right;\n",
              "    }\n",
              "</style>\n",
              "<table border=\"1\" class=\"dataframe\">\n",
              "  <thead>\n",
              "    <tr style=\"text-align: right;\">\n",
              "      <th></th>\n",
              "      <th>transaction_ID</th>\n",
              "      <th>reserv_id</th>\n",
              "      <th>employee_id</th>\n",
              "      <th>payment_id</th>\n",
              "      <th>customer_id</th>\n",
              "      <th>hotel_id</th>\n",
              "    </tr>\n",
              "  </thead>\n",
              "  <tbody>\n",
              "    <tr>\n",
              "      <th>0</th>\n",
              "      <td>1111</td>\n",
              "      <td>rsv1</td>\n",
              "      <td>e1</td>\n",
              "      <td>py1</td>\n",
              "      <td>s1</td>\n",
              "      <td>hm1</td>\n",
              "    </tr>\n",
              "    <tr>\n",
              "      <th>1</th>\n",
              "      <td>1222</td>\n",
              "      <td>rsv2</td>\n",
              "      <td>e2</td>\n",
              "      <td>py2</td>\n",
              "      <td>s2</td>\n",
              "      <td>hm2</td>\n",
              "    </tr>\n",
              "    <tr>\n",
              "      <th>2</th>\n",
              "      <td>2222</td>\n",
              "      <td>rsv3</td>\n",
              "      <td>e3</td>\n",
              "      <td>py3</td>\n",
              "      <td>s3</td>\n",
              "      <td>hm3</td>\n",
              "    </tr>\n",
              "    <tr>\n",
              "      <th>3</th>\n",
              "      <td>2111</td>\n",
              "      <td>rsv4</td>\n",
              "      <td>e4</td>\n",
              "      <td>py4</td>\n",
              "      <td>s4</td>\n",
              "      <td>hm4</td>\n",
              "    </tr>\n",
              "    <tr>\n",
              "      <th>4</th>\n",
              "      <td>3222</td>\n",
              "      <td>rsv5</td>\n",
              "      <td>e5</td>\n",
              "      <td>py5</td>\n",
              "      <td>s5</td>\n",
              "      <td>hm5</td>\n",
              "    </tr>\n",
              "  </tbody>\n",
              "</table>\n",
              "</div>\n",
              "      <button class=\"colab-df-convert\" onclick=\"convertToInteractive('df-5656bea0-d6f9-46c3-8108-930a86c5fd0e')\"\n",
              "              title=\"Convert this dataframe to an interactive table.\"\n",
              "              style=\"display:none;\">\n",
              "        \n",
              "  <svg xmlns=\"http://www.w3.org/2000/svg\" height=\"24px\"viewBox=\"0 0 24 24\"\n",
              "       width=\"24px\">\n",
              "    <path d=\"M0 0h24v24H0V0z\" fill=\"none\"/>\n",
              "    <path d=\"M18.56 5.44l.94 2.06.94-2.06 2.06-.94-2.06-.94-.94-2.06-.94 2.06-2.06.94zm-11 1L8.5 8.5l.94-2.06 2.06-.94-2.06-.94L8.5 2.5l-.94 2.06-2.06.94zm10 10l.94 2.06.94-2.06 2.06-.94-2.06-.94-.94-2.06-.94 2.06-2.06.94z\"/><path d=\"M17.41 7.96l-1.37-1.37c-.4-.4-.92-.59-1.43-.59-.52 0-1.04.2-1.43.59L10.3 9.45l-7.72 7.72c-.78.78-.78 2.05 0 2.83L4 21.41c.39.39.9.59 1.41.59.51 0 1.02-.2 1.41-.59l7.78-7.78 2.81-2.81c.8-.78.8-2.07 0-2.86zM5.41 20L4 18.59l7.72-7.72 1.47 1.35L5.41 20z\"/>\n",
              "  </svg>\n",
              "      </button>\n",
              "      \n",
              "  <style>\n",
              "    .colab-df-container {\n",
              "      display:flex;\n",
              "      flex-wrap:wrap;\n",
              "      gap: 12px;\n",
              "    }\n",
              "\n",
              "    .colab-df-convert {\n",
              "      background-color: #E8F0FE;\n",
              "      border: none;\n",
              "      border-radius: 50%;\n",
              "      cursor: pointer;\n",
              "      display: none;\n",
              "      fill: #1967D2;\n",
              "      height: 32px;\n",
              "      padding: 0 0 0 0;\n",
              "      width: 32px;\n",
              "    }\n",
              "\n",
              "    .colab-df-convert:hover {\n",
              "      background-color: #E2EBFA;\n",
              "      box-shadow: 0px 1px 2px rgba(60, 64, 67, 0.3), 0px 1px 3px 1px rgba(60, 64, 67, 0.15);\n",
              "      fill: #174EA6;\n",
              "    }\n",
              "\n",
              "    [theme=dark] .colab-df-convert {\n",
              "      background-color: #3B4455;\n",
              "      fill: #D2E3FC;\n",
              "    }\n",
              "\n",
              "    [theme=dark] .colab-df-convert:hover {\n",
              "      background-color: #434B5C;\n",
              "      box-shadow: 0px 1px 3px 1px rgba(0, 0, 0, 0.15);\n",
              "      filter: drop-shadow(0px 1px 2px rgba(0, 0, 0, 0.3));\n",
              "      fill: #FFFFFF;\n",
              "    }\n",
              "  </style>\n",
              "\n",
              "      <script>\n",
              "        const buttonEl =\n",
              "          document.querySelector('#df-5656bea0-d6f9-46c3-8108-930a86c5fd0e button.colab-df-convert');\n",
              "        buttonEl.style.display =\n",
              "          google.colab.kernel.accessAllowed ? 'block' : 'none';\n",
              "\n",
              "        async function convertToInteractive(key) {\n",
              "          const element = document.querySelector('#df-5656bea0-d6f9-46c3-8108-930a86c5fd0e');\n",
              "          const dataTable =\n",
              "            await google.colab.kernel.invokeFunction('convertToInteractive',\n",
              "                                                     [key], {});\n",
              "          if (!dataTable) return;\n",
              "\n",
              "          const docLinkHtml = 'Like what you see? Visit the ' +\n",
              "            '<a target=\"_blank\" href=https://colab.research.google.com/notebooks/data_table.ipynb>data table notebook</a>'\n",
              "            + ' to learn more about interactive tables.';\n",
              "          element.innerHTML = '';\n",
              "          dataTable['output_type'] = 'display_data';\n",
              "          await google.colab.output.renderOutput(dataTable, element);\n",
              "          const docLink = document.createElement('div');\n",
              "          docLink.innerHTML = docLinkHtml;\n",
              "          element.appendChild(docLink);\n",
              "        }\n",
              "      </script>\n",
              "    </div>\n",
              "  </div>\n",
              "  "
            ]
          },
          "metadata": {},
          "execution_count": 24
        }
      ]
    },
    {
      "cell_type": "code",
      "source": [
        "Transactions.to_sql(name = 'Transactions', con = con, if_exists=\"replace\", index=False)"
      ],
      "metadata": {
        "id": "34xMdKgtQb6r"
      },
      "execution_count": 25,
      "outputs": []
    },
    {
      "cell_type": "code",
      "source": [
        "q=\"SELECT transaction_ID, reserv_id, employee_id, payment_id, customer_id, hotel_id FROM Transactions\"\n",
        "my_cursor=con.execute(q)\n",
        "for row in my_cursor:\n",
        "  print(row)"
      ],
      "metadata": {
        "colab": {
          "base_uri": "https://localhost:8080/"
        },
        "id": "DljfejWYWG56",
        "outputId": "2cbe56a2-11f3-4d64-992e-008c02489ea0"
      },
      "execution_count": 26,
      "outputs": [
        {
          "output_type": "stream",
          "name": "stdout",
          "text": [
            "(1111, 'rsv1', 'e1', 'py1', 's1', 'hm1')\n",
            "(1222, 'rsv2', 'e2', 'py2', 's2', 'hm2')\n",
            "(2222, 'rsv3', 'e3', 'py3', 's3', 'hm3')\n",
            "(2111, 'rsv4', 'e4', 'py4', 's4', 'hm4')\n",
            "(3222, 'rsv5', 'e5', 'py5', 's5', 'hm5')\n"
          ]
        }
      ]
    },
    {
      "cell_type": "code",
      "source": [
        "Hotel= pd.DataFrame({\n",
        "    'hotel_id':['hm1'],\n",
        "    'hotel_adress': ['128 Bukhary'],\n",
        "    'city': ['Busan'],\n",
        "    'country': ['South Korea'],\n",
        "    'zip_code': ['s1'],\n",
        "    'hotel_name':['Paradise Hotel'],\n",
        "    'owner_firstname': ['Bekzodbek '],\n",
        "    'owner_last_name': ['Abdulaziz']\n",
        "\n",
        "})\n",
        "Hotel"
      ],
      "metadata": {
        "colab": {
          "base_uri": "https://localhost:8080/",
          "height": 81
        },
        "id": "BJ1ucRiGW1Np",
        "outputId": "d893c535-d083-4d70-de6b-97a76b6dc23e"
      },
      "execution_count": 27,
      "outputs": [
        {
          "output_type": "execute_result",
          "data": {
            "text/plain": [
              "  hotel_id hotel_adress   city      country zip_code      hotel_name  \\\n",
              "0      hm1  128 Bukhary  Busan  South Korea       s1  Paradise Hotel   \n",
              "\n",
              "  owner_firstname owner_last_name  \n",
              "0      Bekzodbek        Abdulaziz  "
            ],
            "text/html": [
              "\n",
              "  <div id=\"df-a22998b6-feb1-46e4-8e41-60744272b4a4\">\n",
              "    <div class=\"colab-df-container\">\n",
              "      <div>\n",
              "<style scoped>\n",
              "    .dataframe tbody tr th:only-of-type {\n",
              "        vertical-align: middle;\n",
              "    }\n",
              "\n",
              "    .dataframe tbody tr th {\n",
              "        vertical-align: top;\n",
              "    }\n",
              "\n",
              "    .dataframe thead th {\n",
              "        text-align: right;\n",
              "    }\n",
              "</style>\n",
              "<table border=\"1\" class=\"dataframe\">\n",
              "  <thead>\n",
              "    <tr style=\"text-align: right;\">\n",
              "      <th></th>\n",
              "      <th>hotel_id</th>\n",
              "      <th>hotel_adress</th>\n",
              "      <th>city</th>\n",
              "      <th>country</th>\n",
              "      <th>zip_code</th>\n",
              "      <th>hotel_name</th>\n",
              "      <th>owner_firstname</th>\n",
              "      <th>owner_last_name</th>\n",
              "    </tr>\n",
              "  </thead>\n",
              "  <tbody>\n",
              "    <tr>\n",
              "      <th>0</th>\n",
              "      <td>hm1</td>\n",
              "      <td>128 Bukhary</td>\n",
              "      <td>Busan</td>\n",
              "      <td>South Korea</td>\n",
              "      <td>s1</td>\n",
              "      <td>Paradise Hotel</td>\n",
              "      <td>Bekzodbek</td>\n",
              "      <td>Abdulaziz</td>\n",
              "    </tr>\n",
              "  </tbody>\n",
              "</table>\n",
              "</div>\n",
              "      <button class=\"colab-df-convert\" onclick=\"convertToInteractive('df-a22998b6-feb1-46e4-8e41-60744272b4a4')\"\n",
              "              title=\"Convert this dataframe to an interactive table.\"\n",
              "              style=\"display:none;\">\n",
              "        \n",
              "  <svg xmlns=\"http://www.w3.org/2000/svg\" height=\"24px\"viewBox=\"0 0 24 24\"\n",
              "       width=\"24px\">\n",
              "    <path d=\"M0 0h24v24H0V0z\" fill=\"none\"/>\n",
              "    <path d=\"M18.56 5.44l.94 2.06.94-2.06 2.06-.94-2.06-.94-.94-2.06-.94 2.06-2.06.94zm-11 1L8.5 8.5l.94-2.06 2.06-.94-2.06-.94L8.5 2.5l-.94 2.06-2.06.94zm10 10l.94 2.06.94-2.06 2.06-.94-2.06-.94-.94-2.06-.94 2.06-2.06.94z\"/><path d=\"M17.41 7.96l-1.37-1.37c-.4-.4-.92-.59-1.43-.59-.52 0-1.04.2-1.43.59L10.3 9.45l-7.72 7.72c-.78.78-.78 2.05 0 2.83L4 21.41c.39.39.9.59 1.41.59.51 0 1.02-.2 1.41-.59l7.78-7.78 2.81-2.81c.8-.78.8-2.07 0-2.86zM5.41 20L4 18.59l7.72-7.72 1.47 1.35L5.41 20z\"/>\n",
              "  </svg>\n",
              "      </button>\n",
              "      \n",
              "  <style>\n",
              "    .colab-df-container {\n",
              "      display:flex;\n",
              "      flex-wrap:wrap;\n",
              "      gap: 12px;\n",
              "    }\n",
              "\n",
              "    .colab-df-convert {\n",
              "      background-color: #E8F0FE;\n",
              "      border: none;\n",
              "      border-radius: 50%;\n",
              "      cursor: pointer;\n",
              "      display: none;\n",
              "      fill: #1967D2;\n",
              "      height: 32px;\n",
              "      padding: 0 0 0 0;\n",
              "      width: 32px;\n",
              "    }\n",
              "\n",
              "    .colab-df-convert:hover {\n",
              "      background-color: #E2EBFA;\n",
              "      box-shadow: 0px 1px 2px rgba(60, 64, 67, 0.3), 0px 1px 3px 1px rgba(60, 64, 67, 0.15);\n",
              "      fill: #174EA6;\n",
              "    }\n",
              "\n",
              "    [theme=dark] .colab-df-convert {\n",
              "      background-color: #3B4455;\n",
              "      fill: #D2E3FC;\n",
              "    }\n",
              "\n",
              "    [theme=dark] .colab-df-convert:hover {\n",
              "      background-color: #434B5C;\n",
              "      box-shadow: 0px 1px 3px 1px rgba(0, 0, 0, 0.15);\n",
              "      filter: drop-shadow(0px 1px 2px rgba(0, 0, 0, 0.3));\n",
              "      fill: #FFFFFF;\n",
              "    }\n",
              "  </style>\n",
              "\n",
              "      <script>\n",
              "        const buttonEl =\n",
              "          document.querySelector('#df-a22998b6-feb1-46e4-8e41-60744272b4a4 button.colab-df-convert');\n",
              "        buttonEl.style.display =\n",
              "          google.colab.kernel.accessAllowed ? 'block' : 'none';\n",
              "\n",
              "        async function convertToInteractive(key) {\n",
              "          const element = document.querySelector('#df-a22998b6-feb1-46e4-8e41-60744272b4a4');\n",
              "          const dataTable =\n",
              "            await google.colab.kernel.invokeFunction('convertToInteractive',\n",
              "                                                     [key], {});\n",
              "          if (!dataTable) return;\n",
              "\n",
              "          const docLinkHtml = 'Like what you see? Visit the ' +\n",
              "            '<a target=\"_blank\" href=https://colab.research.google.com/notebooks/data_table.ipynb>data table notebook</a>'\n",
              "            + ' to learn more about interactive tables.';\n",
              "          element.innerHTML = '';\n",
              "          dataTable['output_type'] = 'display_data';\n",
              "          await google.colab.output.renderOutput(dataTable, element);\n",
              "          const docLink = document.createElement('div');\n",
              "          docLink.innerHTML = docLinkHtml;\n",
              "          element.appendChild(docLink);\n",
              "        }\n",
              "      </script>\n",
              "    </div>\n",
              "  </div>\n",
              "  "
            ]
          },
          "metadata": {},
          "execution_count": 27
        }
      ]
    },
    {
      "cell_type": "code",
      "source": [
        "Hotel.to_sql(name = 'Hotel', con = con, if_exists=\"replace\", index=False)"
      ],
      "metadata": {
        "id": "AvRkMjemXNuH"
      },
      "execution_count": 28,
      "outputs": []
    },
    {
      "cell_type": "code",
      "source": [
        "q=\"SELECT hotel_id, hotel_adress, city, country, zip_code, hotel_name, owner_firstname, owner_last_name FROM Hotel\"\n",
        "my_cursor=con.execute(q)\n",
        "for row in my_cursor:\n",
        "  print(row)"
      ],
      "metadata": {
        "colab": {
          "base_uri": "https://localhost:8080/"
        },
        "id": "2z4unKuwXtsf",
        "outputId": "351fcefb-525e-4970-c581-c9f97549ef58"
      },
      "execution_count": 30,
      "outputs": [
        {
          "output_type": "stream",
          "name": "stdout",
          "text": [
            "('hm1', '128 Bukhary', 'Busan', 'South Korea', 's1', 'Paradise Hotel', 'Bekzodbek ', 'Abdulaziz')\n"
          ]
        }
      ]
    },
    {
      "cell_type": "code",
      "source": [
        "Various_Charges= pd.DataFrame({\n",
        "    'various_charges_id':['vc11','vc22','vs33'],\n",
        "    'name': ['Stolen item','Broken window','Food'],\n",
        "    'cost': ['$47','$120','$30'],\n",
        "    'description': ['the hair drier is missing the room 123A','The big window is broken and needs to be replaced','All room service for food is under about $30 buffet'],\n",
        "    \n",
        "})\n",
        "Various_Charges"
      ],
      "metadata": {
        "colab": {
          "base_uri": "https://localhost:8080/",
          "height": 143
        },
        "id": "X7dr3sh-YlqC",
        "outputId": "01e38054-1fbc-4381-bc57-ec6cca055b04"
      },
      "execution_count": 31,
      "outputs": [
        {
          "output_type": "execute_result",
          "data": {
            "text/plain": [
              "  various_charges_id           name  cost  \\\n",
              "0               vc11    Stolen item   $47   \n",
              "1               vc22  Broken window  $120   \n",
              "2               vs33           Food   $30   \n",
              "\n",
              "                                         description  \n",
              "0            the hair drier is missing the room 123A  \n",
              "1  The big window is broken and needs to be replaced  \n",
              "2  All room service for food is under about $30 b...  "
            ],
            "text/html": [
              "\n",
              "  <div id=\"df-753f533c-eef3-4078-8bd1-53d06b7ef3a6\">\n",
              "    <div class=\"colab-df-container\">\n",
              "      <div>\n",
              "<style scoped>\n",
              "    .dataframe tbody tr th:only-of-type {\n",
              "        vertical-align: middle;\n",
              "    }\n",
              "\n",
              "    .dataframe tbody tr th {\n",
              "        vertical-align: top;\n",
              "    }\n",
              "\n",
              "    .dataframe thead th {\n",
              "        text-align: right;\n",
              "    }\n",
              "</style>\n",
              "<table border=\"1\" class=\"dataframe\">\n",
              "  <thead>\n",
              "    <tr style=\"text-align: right;\">\n",
              "      <th></th>\n",
              "      <th>various_charges_id</th>\n",
              "      <th>name</th>\n",
              "      <th>cost</th>\n",
              "      <th>description</th>\n",
              "    </tr>\n",
              "  </thead>\n",
              "  <tbody>\n",
              "    <tr>\n",
              "      <th>0</th>\n",
              "      <td>vc11</td>\n",
              "      <td>Stolen item</td>\n",
              "      <td>$47</td>\n",
              "      <td>the hair drier is missing the room 123A</td>\n",
              "    </tr>\n",
              "    <tr>\n",
              "      <th>1</th>\n",
              "      <td>vc22</td>\n",
              "      <td>Broken window</td>\n",
              "      <td>$120</td>\n",
              "      <td>The big window is broken and needs to be replaced</td>\n",
              "    </tr>\n",
              "    <tr>\n",
              "      <th>2</th>\n",
              "      <td>vs33</td>\n",
              "      <td>Food</td>\n",
              "      <td>$30</td>\n",
              "      <td>All room service for food is under about $30 b...</td>\n",
              "    </tr>\n",
              "  </tbody>\n",
              "</table>\n",
              "</div>\n",
              "      <button class=\"colab-df-convert\" onclick=\"convertToInteractive('df-753f533c-eef3-4078-8bd1-53d06b7ef3a6')\"\n",
              "              title=\"Convert this dataframe to an interactive table.\"\n",
              "              style=\"display:none;\">\n",
              "        \n",
              "  <svg xmlns=\"http://www.w3.org/2000/svg\" height=\"24px\"viewBox=\"0 0 24 24\"\n",
              "       width=\"24px\">\n",
              "    <path d=\"M0 0h24v24H0V0z\" fill=\"none\"/>\n",
              "    <path d=\"M18.56 5.44l.94 2.06.94-2.06 2.06-.94-2.06-.94-.94-2.06-.94 2.06-2.06.94zm-11 1L8.5 8.5l.94-2.06 2.06-.94-2.06-.94L8.5 2.5l-.94 2.06-2.06.94zm10 10l.94 2.06.94-2.06 2.06-.94-2.06-.94-.94-2.06-.94 2.06-2.06.94z\"/><path d=\"M17.41 7.96l-1.37-1.37c-.4-.4-.92-.59-1.43-.59-.52 0-1.04.2-1.43.59L10.3 9.45l-7.72 7.72c-.78.78-.78 2.05 0 2.83L4 21.41c.39.39.9.59 1.41.59.51 0 1.02-.2 1.41-.59l7.78-7.78 2.81-2.81c.8-.78.8-2.07 0-2.86zM5.41 20L4 18.59l7.72-7.72 1.47 1.35L5.41 20z\"/>\n",
              "  </svg>\n",
              "      </button>\n",
              "      \n",
              "  <style>\n",
              "    .colab-df-container {\n",
              "      display:flex;\n",
              "      flex-wrap:wrap;\n",
              "      gap: 12px;\n",
              "    }\n",
              "\n",
              "    .colab-df-convert {\n",
              "      background-color: #E8F0FE;\n",
              "      border: none;\n",
              "      border-radius: 50%;\n",
              "      cursor: pointer;\n",
              "      display: none;\n",
              "      fill: #1967D2;\n",
              "      height: 32px;\n",
              "      padding: 0 0 0 0;\n",
              "      width: 32px;\n",
              "    }\n",
              "\n",
              "    .colab-df-convert:hover {\n",
              "      background-color: #E2EBFA;\n",
              "      box-shadow: 0px 1px 2px rgba(60, 64, 67, 0.3), 0px 1px 3px 1px rgba(60, 64, 67, 0.15);\n",
              "      fill: #174EA6;\n",
              "    }\n",
              "\n",
              "    [theme=dark] .colab-df-convert {\n",
              "      background-color: #3B4455;\n",
              "      fill: #D2E3FC;\n",
              "    }\n",
              "\n",
              "    [theme=dark] .colab-df-convert:hover {\n",
              "      background-color: #434B5C;\n",
              "      box-shadow: 0px 1px 3px 1px rgba(0, 0, 0, 0.15);\n",
              "      filter: drop-shadow(0px 1px 2px rgba(0, 0, 0, 0.3));\n",
              "      fill: #FFFFFF;\n",
              "    }\n",
              "  </style>\n",
              "\n",
              "      <script>\n",
              "        const buttonEl =\n",
              "          document.querySelector('#df-753f533c-eef3-4078-8bd1-53d06b7ef3a6 button.colab-df-convert');\n",
              "        buttonEl.style.display =\n",
              "          google.colab.kernel.accessAllowed ? 'block' : 'none';\n",
              "\n",
              "        async function convertToInteractive(key) {\n",
              "          const element = document.querySelector('#df-753f533c-eef3-4078-8bd1-53d06b7ef3a6');\n",
              "          const dataTable =\n",
              "            await google.colab.kernel.invokeFunction('convertToInteractive',\n",
              "                                                     [key], {});\n",
              "          if (!dataTable) return;\n",
              "\n",
              "          const docLinkHtml = 'Like what you see? Visit the ' +\n",
              "            '<a target=\"_blank\" href=https://colab.research.google.com/notebooks/data_table.ipynb>data table notebook</a>'\n",
              "            + ' to learn more about interactive tables.';\n",
              "          element.innerHTML = '';\n",
              "          dataTable['output_type'] = 'display_data';\n",
              "          await google.colab.output.renderOutput(dataTable, element);\n",
              "          const docLink = document.createElement('div');\n",
              "          docLink.innerHTML = docLinkHtml;\n",
              "          element.appendChild(docLink);\n",
              "        }\n",
              "      </script>\n",
              "    </div>\n",
              "  </div>\n",
              "  "
            ]
          },
          "metadata": {},
          "execution_count": 31
        }
      ]
    },
    {
      "cell_type": "code",
      "source": [
        "Various_Charges.to_sql(name = 'Various_Charges', con = con, if_exists=\"replace\", index=False)"
      ],
      "metadata": {
        "id": "kPPgpUS3YtWe"
      },
      "execution_count": 32,
      "outputs": []
    },
    {
      "cell_type": "code",
      "source": [
        "q=\"SELECT various_charges_id, name, cost, description FROM Various_Charges\"\n",
        "my_cursor=con.execute(q)\n",
        "for row in my_cursor:\n",
        "  print(row)"
      ],
      "metadata": {
        "colab": {
          "base_uri": "https://localhost:8080/"
        },
        "id": "6m9H_jrNY5el",
        "outputId": "f02ae5be-3f6b-49e5-c682-793319c4c431"
      },
      "execution_count": 33,
      "outputs": [
        {
          "output_type": "stream",
          "name": "stdout",
          "text": [
            "('vc11', 'Stolen item', '$47', 'the hair drier is missing the room 123A')\n",
            "('vc22', 'Broken window', '$120', 'The big window is broken and needs to be replaced')\n",
            "('vs33', 'Food', '$30', 'All room service for food is under about $30 buffet')\n"
          ]
        }
      ]
    }
  ]
}